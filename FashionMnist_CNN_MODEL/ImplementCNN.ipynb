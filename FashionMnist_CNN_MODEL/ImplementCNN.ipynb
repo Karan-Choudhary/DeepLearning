{
 "cells": [
  {
   "cell_type": "code",
   "execution_count": 1,
   "source": [
    "import tensorflow as tf\r\n",
    "from tensorflow import keras\r\n",
    "import numpy as np"
   ],
   "outputs": [],
   "metadata": {}
  },
  {
   "cell_type": "code",
   "execution_count": 2,
   "source": [
    "fashion_mnist = keras.datasets.fashion_mnist"
   ],
   "outputs": [],
   "metadata": {}
  },
  {
   "cell_type": "code",
   "execution_count": 3,
   "source": [
    "(train_images,train_labels),(test_images,test_labels) = fashion_mnist.load_data()"
   ],
   "outputs": [],
   "metadata": {}
  },
  {
   "cell_type": "code",
   "execution_count": 4,
   "source": [
    "# scaling down the images in the range of 0-1 so that it help us to quickly train our model\r\n",
    "train_images = train_images/255.0\r\n",
    "test_images = test_images/255.0"
   ],
   "outputs": [],
   "metadata": {}
  },
  {
   "cell_type": "code",
   "execution_count": 5,
   "source": [
    "train_images[1].shape"
   ],
   "outputs": [
    {
     "output_type": "execute_result",
     "data": {
      "text/plain": [
       "(28, 28)"
      ]
     },
     "metadata": {},
     "execution_count": 5
    }
   ],
   "metadata": {}
  },
  {
   "cell_type": "code",
   "execution_count": 6,
   "source": [
    "# reshaping the images\r\n",
    "train_images=train_images.reshape(len(train_images),28,28,1)\r\n",
    "test_images = test_images.reshape(len(test_images),28,28,1)"
   ],
   "outputs": [],
   "metadata": {}
  },
  {
   "cell_type": "code",
   "execution_count": 7,
   "source": [
    "def build_model(hp):\r\n",
    "    model = keras.Sequential([\r\n",
    "        keras.layers.Conv2D(\r\n",
    "            filters = hp.Int('conv_1_filter',min_value = 32, max_value = 128, step = 16),\r\n",
    "            kernel_size= hp.Choice('conv_1_kernel',values = [3,5]),\r\n",
    "            activation='relu',\r\n",
    "            input_shape=(28,28,1)\r\n",
    "        ),\r\n",
    "        keras.layers.Conv2D(\r\n",
    "            filters = hp.Int('conv_2_filter',min_value = 32, max_value = 64, step = 16),\r\n",
    "            kernel_size=hp.Choice('conv_2_kernel',values = [3,5]),\r\n",
    "            activation='relu'\r\n",
    "        ),\r\n",
    "        keras.layers.Flatten(),\r\n",
    "        keras.layers.Dense(\r\n",
    "            units=hp.Int('dense_1_units',min_value = 32, max_value = 128, step = 16),\r\n",
    "            activation='relu'\r\n",
    "        ),\r\n",
    "        keras.layers.Dense(10,activation='softmax')\r\n",
    "    ])\r\n",
    "    model.compile(optimizer=keras.optimizers.Adam(hp.Choice('learning_rate',values = [1e-2,1e-3])),loss='sparse_categorical_crossentropy',metrics=['accuracy'])\r\n",
    "    return model\r\n"
   ],
   "outputs": [],
   "metadata": {}
  },
  {
   "cell_type": "code",
   "execution_count": 8,
   "source": [
    "from keras_tuner.tuners import RandomSearch\r\n",
    "from keras_tuner.engine.hyperparameters import HyperParameters"
   ],
   "outputs": [],
   "metadata": {}
  },
  {
   "cell_type": "code",
   "execution_count": 9,
   "source": [
    "tuner_search = RandomSearch(build_model,objective='val_accuracy',max_trials=5,directory = 'output_1',project_name = \"Mnist Fashion\")"
   ],
   "outputs": [
    {
     "output_type": "stream",
     "name": "stdout",
     "text": [
      "INFO:tensorflow:Reloading Oracle from existing project output_1\\Mnist Fashion\\oracle.json\n",
      "INFO:tensorflow:Reloading Tuner from output_1\\Mnist Fashion\\tuner0.json\n"
     ]
    }
   ],
   "metadata": {}
  },
  {
   "cell_type": "code",
   "execution_count": 10,
   "source": [
    "tuner_search.search(train_images,train_labels,epochs=3,validation_split =0.1)"
   ],
   "outputs": [
    {
     "output_type": "stream",
     "name": "stdout",
     "text": [
      "INFO:tensorflow:Oracle triggered exit\n"
     ]
    }
   ],
   "metadata": {}
  },
  {
   "cell_type": "code",
   "execution_count": 11,
   "source": [
    "model = tuner_search.get_best_models(num_models=1)[0]"
   ],
   "outputs": [],
   "metadata": {}
  },
  {
   "cell_type": "code",
   "execution_count": 12,
   "source": [
    "model.summary()"
   ],
   "outputs": [
    {
     "output_type": "stream",
     "name": "stdout",
     "text": [
      "Model: \"sequential\"\n",
      "_________________________________________________________________\n",
      "Layer (type)                 Output Shape              Param #   \n",
      "=================================================================\n",
      "conv2d (Conv2D)              (None, 26, 26, 112)       1120      \n",
      "_________________________________________________________________\n",
      "conv2d_1 (Conv2D)            (None, 24, 24, 48)        48432     \n",
      "_________________________________________________________________\n",
      "flatten (Flatten)            (None, 27648)             0         \n",
      "_________________________________________________________________\n",
      "dense (Dense)                (None, 112)               3096688   \n",
      "_________________________________________________________________\n",
      "dense_1 (Dense)              (None, 10)                1130      \n",
      "=================================================================\n",
      "Total params: 3,147,370\n",
      "Trainable params: 3,147,370\n",
      "Non-trainable params: 0\n",
      "_________________________________________________________________\n"
     ]
    }
   ],
   "metadata": {}
  },
  {
   "cell_type": "code",
   "execution_count": 13,
   "source": [
    "# retrain the model according to the results we get after random search\r\n",
    "model.fit(train_images,train_labels,epochs=10,validation_split = 0.1, initial_epoch=3)"
   ],
   "outputs": [
    {
     "output_type": "stream",
     "name": "stdout",
     "text": [
      "Epoch 4/10\n",
      "1688/1688 [==============================] - 233s 137ms/step - loss: 0.1234 - accuracy: 0.9534 - val_loss: 0.2698 - val_accuracy: 0.9120\n",
      "Epoch 5/10\n",
      "1688/1688 [==============================] - 206s 122ms/step - loss: 0.0840 - accuracy: 0.9680 - val_loss: 0.3079 - val_accuracy: 0.9137\n",
      "Epoch 6/10\n",
      "1688/1688 [==============================] - 221s 131ms/step - loss: 0.0577 - accuracy: 0.9786 - val_loss: 0.3568 - val_accuracy: 0.9117\n",
      "Epoch 7/10\n",
      "1688/1688 [==============================] - 244s 144ms/step - loss: 0.0402 - accuracy: 0.9853 - val_loss: 0.3891 - val_accuracy: 0.9098\n",
      "Epoch 8/10\n",
      "1688/1688 [==============================] - 239s 142ms/step - loss: 0.0315 - accuracy: 0.9888 - val_loss: 0.4541 - val_accuracy: 0.9115\n",
      "Epoch 9/10\n",
      "1688/1688 [==============================] - 222s 131ms/step - loss: 0.0228 - accuracy: 0.9921 - val_loss: 0.4893 - val_accuracy: 0.9102\n",
      "Epoch 10/10\n",
      "1688/1688 [==============================] - 217s 129ms/step - loss: 0.0221 - accuracy: 0.9924 - val_loss: 0.5455 - val_accuracy: 0.9143\n"
     ]
    },
    {
     "output_type": "execute_result",
     "data": {
      "text/plain": [
       "<tensorflow.python.keras.callbacks.History at 0x20e52f55ca0>"
      ]
     },
     "metadata": {},
     "execution_count": 13
    }
   ],
   "metadata": {}
  },
  {
   "cell_type": "code",
   "execution_count": null,
   "source": [],
   "outputs": [],
   "metadata": {}
  }
 ],
 "metadata": {
  "orig_nbformat": 4,
  "language_info": {
   "name": "python",
   "version": "3.9.2",
   "mimetype": "text/x-python",
   "codemirror_mode": {
    "name": "ipython",
    "version": 3
   },
   "pygments_lexer": "ipython3",
   "nbconvert_exporter": "python",
   "file_extension": ".py"
  },
  "kernelspec": {
   "name": "python3",
   "display_name": "Python 3.9.2 64-bit"
  },
  "interpreter": {
   "hash": "578ce72e72bd9f13049fd4c13d9f5b1c81715c13ddea0a3c61ff70756cb5d6d4"
  }
 },
 "nbformat": 4,
 "nbformat_minor": 2
}