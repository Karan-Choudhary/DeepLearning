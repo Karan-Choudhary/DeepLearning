{
 "cells": [
  {
   "cell_type": "markdown",
   "source": [
    "# RNN From Scratch"
   ],
   "metadata": {}
  },
  {
   "cell_type": "code",
   "execution_count": 1,
   "source": [
    "import tensorflow as tf\r\n",
    "from tensorflow.keras import layers"
   ],
   "outputs": [],
   "metadata": {}
  },
  {
   "cell_type": "code",
   "execution_count": 3,
   "source": [
    "class MyRNNCell(tf.keras.layers.Layer):\r\n",
    "    def __init__(self,rnn_units,input_dim,output_dim):\r\n",
    "        super(MyRNNCell,self).__init__()\r\n",
    "\r\n",
    "        # Initialize weight matrices\r\n",
    "        self.W_xh = self.add_weight([rnn_units,input_dim])\r\n",
    "        self.W_hh = self.add_weight([rnn_units,rnn_units])\r\n",
    "        self.W_hy = self.add_weight([output_dim,rnn_units])\r\n",
    "\r\n",
    "        # Initialize hidden state to zeros\r\n",
    "        self.h = tf.zeros([rnn_units,1])\r\n",
    "\r\n",
    "    def call(self,x):\r\n",
    "        # update the hidden state\r\n",
    "        self.h = tf.math.tanh(self.W_hh * self.h + self.W_xh * x)\r\n",
    "        # Compute the output\r\n",
    "        output = self.W_hy * self.h\r\n",
    "\r\n",
    "        # Return the current output and hidden state\r\n",
    "        return output,self.h\r\n"
   ],
   "outputs": [],
   "metadata": {}
  }
 ],
 "metadata": {
  "orig_nbformat": 4,
  "language_info": {
   "name": "python",
   "version": "3.9.2",
   "mimetype": "text/x-python",
   "codemirror_mode": {
    "name": "ipython",
    "version": 3
   },
   "pygments_lexer": "ipython3",
   "nbconvert_exporter": "python",
   "file_extension": ".py"
  },
  "kernelspec": {
   "name": "python3",
   "display_name": "Python 3.9.2 64-bit"
  },
  "interpreter": {
   "hash": "578ce72e72bd9f13049fd4c13d9f5b1c81715c13ddea0a3c61ff70756cb5d6d4"
  }
 },
 "nbformat": 4,
 "nbformat_minor": 2
}