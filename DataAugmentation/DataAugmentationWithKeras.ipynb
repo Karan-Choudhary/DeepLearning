{
 "cells": [
  {
   "cell_type": "markdown",
   "source": [
    "# Data Augmentation\r\n",
    " used when we have small image dataset </br>\r\n",
    " then we can use data augmentation and transform the image and make our dataset enough for the dataset"
   ],
   "metadata": {}
  },
  {
   "cell_type": "markdown",
   "source": [
    "## Data Augmentation using Python and Keras"
   ],
   "metadata": {}
  },
  {
   "cell_type": "code",
   "execution_count": 5,
   "source": [
    "# Data Augmentation \r\n",
    "from tensorflow.keras.preprocessing.image import ImageDataGenerator, array_to_img, img_to_array, load_img"
   ],
   "outputs": [],
   "metadata": {}
  },
  {
   "cell_type": "code",
   "execution_count": 6,
   "source": [
    "datagen = ImageDataGenerator(\r\n",
    "    rotation_range=40,\r\n",
    "    width_shift_range=0.2,\r\n",
    "    height_shift_range=0.2,\r\n",
    "    shear_range=0.2,\r\n",
    "    zoom_range=0.2,\r\n",
    "    horizontal_flip=True,\r\n",
    "    fill_mode='nearest')"
   ],
   "outputs": [],
   "metadata": {}
  },
  {
   "cell_type": "code",
   "execution_count": 7,
   "source": [
    "img = load_img('10206.jpg') # this will load the image and it is a PIL image"
   ],
   "outputs": [],
   "metadata": {}
  },
  {
   "cell_type": "code",
   "execution_count": 8,
   "source": [
    "# conveting loaded image into array\r\n",
    "x = img_to_array(img) # this is a numpy array with shape(3,150,150)\r\n",
    "x = x.reshape((1,)+x.shape) # this is a numpy array with shape (1,3,150,150)"
   ],
   "outputs": [],
   "metadata": {}
  },
  {
   "cell_type": "code",
   "execution_count": 10,
   "source": [
    "# the .flow() command generates batches of randomly transformed images\r\n",
    "# and saves the results to the preview directory\r\n",
    "i=0\r\n",
    "for batch in datagen.flow(x,batch_size=1,save_to_dir='preview',save_prefix='cat',save_format='jpeg'):\r\n",
    "    i=i+1\r\n",
    "    if i >20:\r\n",
    "        break"
   ],
   "outputs": [],
   "metadata": {}
  },
  {
   "cell_type": "code",
   "execution_count": null,
   "source": [],
   "outputs": [],
   "metadata": {}
  }
 ],
 "metadata": {
  "orig_nbformat": 4,
  "language_info": {
   "name": "python",
   "version": "3.9.2",
   "mimetype": "text/x-python",
   "codemirror_mode": {
    "name": "ipython",
    "version": 3
   },
   "pygments_lexer": "ipython3",
   "nbconvert_exporter": "python",
   "file_extension": ".py"
  },
  "kernelspec": {
   "name": "python3",
   "display_name": "Python 3.9.2 64-bit"
  },
  "interpreter": {
   "hash": "578ce72e72bd9f13049fd4c13d9f5b1c81715c13ddea0a3c61ff70756cb5d6d4"
  }
 },
 "nbformat": 4,
 "nbformat_minor": 2
}